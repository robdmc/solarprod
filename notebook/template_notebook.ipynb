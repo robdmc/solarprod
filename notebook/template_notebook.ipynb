{
 "cells": [
  {
   "cell_type": "code",
   "execution_count": 6,
   "id": "276b9e0f",
   "metadata": {},
   "outputs": [],
   "source": [
    "import solarprod as sp\n",
    "from solarprod.ibis_tools import get_connections\n",
    "import easier as ezr\n",
    "ezr.mute_warnings()"
   ]
  },
  {
   "cell_type": "code",
   "execution_count": 7,
   "id": "0713a2d2",
   "metadata": {},
   "outputs": [
    {
     "name": "stdout",
     "output_type": "stream",
     "text": [
      "['detections', 'raw_detections', 'nominal_prod', 'neighbors', 'prod_history', 'homeowners']\n"
     ]
    },
    {
     "data": {
      "text/html": [
       "<div>\n",
       "<style scoped>\n",
       "    .dataframe tbody tr th:only-of-type {\n",
       "        vertical-align: middle;\n",
       "    }\n",
       "\n",
       "    .dataframe tbody tr th {\n",
       "        vertical-align: top;\n",
       "    }\n",
       "\n",
       "    .dataframe thead th {\n",
       "        text-align: right;\n",
       "    }\n",
       "</style>\n",
       "<table border=\"1\" class=\"dataframe\">\n",
       "  <thead>\n",
       "    <tr style=\"text-align: right;\">\n",
       "      <th></th>\n",
       "      <th>homeowner_id</th>\n",
       "      <th>date</th>\n",
       "      <th>total_production</th>\n",
       "      <th>nominal_prod</th>\n",
       "      <th>baseline_nominal_prod</th>\n",
       "    </tr>\n",
       "  </thead>\n",
       "  <tbody>\n",
       "    <tr>\n",
       "      <th>0</th>\n",
       "      <td>2</td>\n",
       "      <td>2020-01-28</td>\n",
       "      <td>1082.488316</td>\n",
       "      <td>1043.287336</td>\n",
       "      <td>926.772866</td>\n",
       "    </tr>\n",
       "    <tr>\n",
       "      <th>1</th>\n",
       "      <td>2</td>\n",
       "      <td>2020-01-29</td>\n",
       "      <td>1264.449728</td>\n",
       "      <td>1077.693381</td>\n",
       "      <td>938.319056</td>\n",
       "    </tr>\n",
       "    <tr>\n",
       "      <th>2</th>\n",
       "      <td>2</td>\n",
       "      <td>2020-01-30</td>\n",
       "      <td>338.112105</td>\n",
       "      <td>1078.363717</td>\n",
       "      <td>938.280100</td>\n",
       "    </tr>\n",
       "    <tr>\n",
       "      <th>3</th>\n",
       "      <td>2</td>\n",
       "      <td>2020-01-31</td>\n",
       "      <td>1121.250779</td>\n",
       "      <td>1101.839984</td>\n",
       "      <td>904.914283</td>\n",
       "    </tr>\n",
       "    <tr>\n",
       "      <th>4</th>\n",
       "      <td>2</td>\n",
       "      <td>2020-02-01</td>\n",
       "      <td>1271.000608</td>\n",
       "      <td>1140.043865</td>\n",
       "      <td>876.132353</td>\n",
       "    </tr>\n",
       "  </tbody>\n",
       "</table>\n",
       "</div>"
      ],
      "text/plain": [
       "   homeowner_id       date  total_production  nominal_prod  \\\n",
       "0             2 2020-01-28       1082.488316   1043.287336   \n",
       "1             2 2020-01-29       1264.449728   1077.693381   \n",
       "2             2 2020-01-30        338.112105   1078.363717   \n",
       "3             2 2020-01-31       1121.250779   1101.839984   \n",
       "4             2 2020-02-01       1271.000608   1140.043865   \n",
       "\n",
       "   baseline_nominal_prod  \n",
       "0             926.772866  \n",
       "1             938.319056  \n",
       "2             938.280100  \n",
       "3             904.914283  \n",
       "4             876.132353  "
      ]
     },
     "execution_count": 7,
     "metadata": {},
     "output_type": "execute_result"
    }
   ],
   "source": [
    "with get_connections('local') as conn:\n",
    "    print(conn.list_tables())\n",
    "    t = conn.table('nominal_prod')\n",
    "    df = t.head().execute()\n",
    "df"
   ]
  },
  {
   "cell_type": "code",
   "execution_count": 4,
   "id": "94c7a2e0",
   "metadata": {},
   "outputs": [
    {
     "name": "stdout",
     "output_type": "stream",
     "text": [
      "app  boot  dev\thome  media  notebooks\tproc  run   srv  tmp  var\r\n",
      "bin  code  etc\tlib   mnt    opt\troot  sbin  sys  usr\r\n"
     ]
    }
   ],
   "source": [
    "!ls /"
   ]
  },
  {
   "cell_type": "code",
   "execution_count": null,
   "id": "ed49021d",
   "metadata": {},
   "outputs": [],
   "source": []
  }
 ],
 "metadata": {
  "kernelspec": {
   "display_name": "Python 3 (ipykernel)",
   "language": "python",
   "name": "python3"
  },
  "language_info": {
   "codemirror_mode": {
    "name": "ipython",
    "version": 3
   },
   "file_extension": ".py",
   "mimetype": "text/x-python",
   "name": "python",
   "nbconvert_exporter": "python",
   "pygments_lexer": "ipython3",
   "version": "3.9.15"
  }
 },
 "nbformat": 4,
 "nbformat_minor": 5
}
